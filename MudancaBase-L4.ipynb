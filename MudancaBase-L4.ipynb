{
 "cells": [
  {
   "cell_type": "markdown",
   "metadata": {
    "collapsed": true,
    "pycharm": {
     "name": "#%% md\n"
    }
   },
   "source": [
    "# Mateus Guilherme Fuini RA 3016242\n",
    "## Lista 4"
   ]
  },
  {
   "cell_type": "code",
   "execution_count": 11,
   "outputs": [],
   "source": [
    "from sympy import symbols, Matrix, Eq, solve\n",
    "from IPython.display import display"
   ],
   "metadata": {
    "collapsed": false,
    "pycharm": {
     "name": "#%%\n"
    }
   }
  },
  {
   "cell_type": "markdown",
   "source": [
    "### Consideremos as seguintes bases do ℝ²: A = {(1, 1),(0, −1)} e B = {(2, −3),(−3, 5)}."
   ],
   "metadata": {
    "collapsed": false,
    "pycharm": {
     "name": "#%% md\n"
    }
   }
  },
  {
   "cell_type": "markdown",
   "source": [
    "#### a) Determinar a matriz-mudança de base $ [I]^A_B $"
   ],
   "metadata": {
    "collapsed": false,
    "pycharm": {
     "name": "#%% md\n"
    }
   }
  },
  {
   "cell_type": "code",
   "execution_count": 4,
   "outputs": [
    {
     "name": "stdout",
     "output_type": "stream",
     "text": [
      "A matriz de mudança de base:\n"
     ]
    },
    {
     "data": {
      "text/plain": "Matrix([\n[8, -3],\n[5, -2]])",
      "text/latex": "$\\displaystyle \\left[\\begin{matrix}8 & -3\\\\5 & -2\\end{matrix}\\right]$"
     },
     "metadata": {},
     "output_type": "display_data"
    }
   ],
   "source": [
    "A = Matrix([[1,1],[0,-1]])\n",
    "B = Matrix([[2,-3],[-3,5]])\n",
    "a, b = symbols('a b')\n",
    "#Colunas da matriz são vetores da base A escritos na base B\n",
    "var = Matrix([[a, b]])\n",
    "var_B = var*B\n",
    "#a(2,-3)+b(-3,5)=(1,1)\n",
    "eq1 = Eq(var_B[0],A[0])\n",
    "eq2 = Eq(var_B[1],A[1])\n",
    "res = solve((eq1, eq2),(a,b))\n",
    "col1 = Matrix([res[a],res[b]])\n",
    "#a(2,-3)+b(-3,5)=(0,-1)\n",
    "eq1 = Eq(var_B[0],A[2])\n",
    "eq2 = Eq(var_B[1],A[3])\n",
    "res = solve((eq1, eq2),(a,b))\n",
    "col2 = Matrix([res[a],res[b]])\n",
    "#Resposta\n",
    "Mudanca_base =Matrix([[],[]])\n",
    "Mudanca_base = Mudanca_base.col_insert(0,col1)\n",
    "Mudanca_base = Mudanca_base.col_insert(1,col2)\n",
    "print('A matriz de mudança de base:')\n",
    "display(Mudanca_base)"
   ],
   "metadata": {
    "collapsed": false,
    "pycharm": {
     "name": "#%%\n"
    }
   }
  },
  {
   "cell_type": "markdown",
   "source": [
    "#### b) Utilizar a matriz obtida no item a) para calcular vB, sendo $ v_A $ = (2, 3)."
   ],
   "metadata": {
    "collapsed": false
   }
  },
  {
   "cell_type": "code",
   "execution_count": 7,
   "outputs": [
    {
     "name": "stdout",
     "output_type": "stream",
     "text": [
      "vb=(7,4)\n"
     ]
    }
   ],
   "source": [
    "vb=(Mudanca_base*Matrix([2,3]))\n",
    "print(f'vb=({vb[0]},{vb[1]})')\n",
    "#display(vb)"
   ],
   "metadata": {
    "collapsed": false,
    "pycharm": {
     "name": "#%%\n"
    }
   }
  },
  {
   "cell_type": "markdown",
   "source": [
    "#### c) Determinar a matriz-mudança de base de B para A"
   ],
   "metadata": {
    "collapsed": false
   }
  },
  {
   "cell_type": "code",
   "execution_count": 8,
   "outputs": [
    {
     "name": "stdout",
     "output_type": "stream",
     "text": [
      "A matriz de mudança de base de B para A:\n"
     ]
    },
    {
     "data": {
      "text/plain": "Matrix([\n[2, -3],\n[5, -8]])",
      "text/latex": "$\\displaystyle \\left[\\begin{matrix}2 & -3\\\\5 & -8\\end{matrix}\\right]$"
     },
     "execution_count": 8,
     "metadata": {},
     "output_type": "execute_result"
    }
   ],
   "source": [
    "print('A matriz de mudança de base de B para A:')\n",
    "Mudanca_base.inv()"
   ],
   "metadata": {
    "collapsed": false,
    "pycharm": {
     "name": "#%%\n"
    }
   }
  },
  {
   "cell_type": "markdown",
   "source": [
    "### 2. Sabendo que $ [I]^A_B $  = $ \\left[\\begin{tabular}{cc} −1 & 4 \\\\ 4 & −11\\end{tabular}\\right] e B $ = {(3, 5),(1, 2)}, determinar a base $A$."
   ],
   "metadata": {
    "collapsed": false,
    "pycharm": {
     "name": "#%% md\n"
    }
   }
  },
  {
   "cell_type": "code",
   "execution_count": 9,
   "outputs": [
    {
     "name": "stdout",
     "output_type": "stream",
     "text": [
      "A={(1,3),(1,-2)}\n"
     ]
    }
   ],
   "source": [
    "#A = {(1,3), (1,-2)}\n",
    "I = Matrix([[-1,4],[4,-11]])\n",
    "B = Matrix([[3,5],[1,2]])\n",
    "#I=vA*vB.inv()\n",
    "#vA=I*vB\n",
    "#vB=I.inv()*vA\n",
    "A = I*B\n",
    "print(f'A={{({A[0]},{A[1]}),({A[2]},{A[3]})}}')"
   ],
   "metadata": {
    "collapsed": false,
    "pycharm": {
     "name": "#%%\n"
    }
   }
  },
  {
   "cell_type": "markdown",
   "source": [
    "### 3. Seja T : ℝ² $\\longrightarrow$ ℝ² um operador linear. Consideremos as bases $A$ canônica e $B$ = {(4, 1),(−11, −3)} . Sabendo que $[T]_B$ = $ \\left[\\begin{tabular}{cc} 3 & 5 \\\\ 1 & 2\\end{tabular}\\right] $, determinar $ [T]_A $, utilizando a relação entre matrizes semelhantes."
   ],
   "metadata": {
    "collapsed": false,
    "pycharm": {
     "name": "#%% md\n"
    }
   }
  },
  {
   "cell_type": "code",
   "execution_count": 10,
   "outputs": [
    {
     "name": "stdout",
     "output_type": "stream",
     "text": [
      "Reposta. [T]A=\n"
     ]
    },
    {
     "data": {
      "text/plain": "Matrix([\n[ 1, -3],\n[-1,  4]])",
      "text/latex": "$\\displaystyle \\left[\\begin{matrix}1 & -3\\\\-1 & 4\\end{matrix}\\right]$"
     },
     "metadata": {},
     "output_type": "display_data"
    }
   ],
   "source": [
    "AB=Matrix([[4,1],[-11,-3]])\n",
    "TB=Matrix([[3, 5],[1, 2]])\n",
    "#Como A é base canônica:\n",
    "I = AB.T\n",
    "TA=I*TB*I.inv()\n",
    "print(\"Reposta. [T]A=\")\n",
    "display(TA)"
   ],
   "metadata": {
    "collapsed": false,
    "pycharm": {
     "name": "#%%\n"
    }
   }
  }
 ],
 "metadata": {
  "kernelspec": {
   "display_name": "Python 3",
   "language": "python",
   "name": "python3"
  },
  "language_info": {
   "codemirror_mode": {
    "name": "ipython",
    "version": 2
   },
   "file_extension": ".py",
   "mimetype": "text/x-python",
   "name": "python",
   "nbconvert_exporter": "python",
   "pygments_lexer": "ipython2",
   "version": "2.7.6"
  }
 },
 "nbformat": 4,
 "nbformat_minor": 0
}