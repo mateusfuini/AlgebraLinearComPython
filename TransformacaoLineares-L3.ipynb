{
 "cells": [
  {
   "cell_type": "markdown",
   "source": [
    "# Mateus Guilherme Fuini\n",
    "# Lista 3 - Álgebra Linear"
   ],
   "metadata": {
    "collapsed": false,
    "pycharm": {
     "name": "#%% md\n"
    }
   }
  },
  {
   "cell_type": "code",
   "execution_count": 14,
   "outputs": [],
   "source": [
    "from sympy import symbols, Matrix, solve\n",
    "x, y, k, c = symbols('x y k c')"
   ],
   "metadata": {
    "collapsed": false,
    "pycharm": {
     "name": "#%%\n"
    }
   }
  },
  {
   "cell_type": "markdown",
   "source": [
    "### 1 - Dada a transformação linear T : V −→ W, tal que T(u) = 3u e T(v) = u − v, calcular em função de u e v."
   ],
   "metadata": {
    "collapsed": false,
    "pycharm": {
     "name": "#%% md\n"
    }
   }
  },
  {
   "cell_type": "code",
   "execution_count": 2,
   "metadata": {
    "collapsed": true
   },
   "outputs": [
    {
     "name": "stdout",
     "output_type": "stream",
     "text": [
      "a-) T(u+v)=4*u - v\n",
      "b-) T(3u)=9*u\n",
      "c-) T(4u-5v)=7*u + 5*v\n"
     ]
    }
   ],
   "source": [
    "u, v = symbols('u v')\n",
    "Tu = Matrix([3*u])\n",
    "Tv = Matrix([u-v])\n",
    "print(f'a-) T(u+v)={(Tu+Tv)[0]}')\n",
    "print(f'b-) T(3u)={(3*Tu)[0]}')\n",
    "print(f'c-) T(4u-5v)={((4*Tu)-(5*Tv))[0]}')"
   ]
  },
  {
   "cell_type": "markdown",
   "source": [
    "### 2 - Seja a aplicação T:ℝ² → ℝ³, definida por T(x, y) = (x + ky, x + k, y). Verificar em que caso(s) T é linear."
   ],
   "metadata": {
    "collapsed": false,
    "pycharm": {
     "name": "#%% md\n"
    }
   }
  },
  {
   "cell_type": "code",
   "execution_count": 3,
   "outputs": [
    {
     "name": "stdout",
     "output_type": "stream",
     "text": [
      "a-) k=x\n",
      " T(x,y)=(x*y + x, 2*x, y)\n",
      "O termo xy na primeira coordenada indica que é de segundo grau, portanto T não será linear\n",
      "Verificando o axioma distributividade temos que T(λx,λy)≠λT(x,y)\n",
      "Matrix([[c**2*x*y + c*x], [2*c*x], [c*y]])≠Matrix([[c*(x*y + x)], [2*c*x], [c*y]])\n",
      "\n",
      "Portanto T não é linear para k=x\n"
     ]
    }
   ],
   "source": [
    "#T é linear se T(u+v)=T(u)+T(v) e T( u)=\\lambda T(u)\n",
    "\n",
    "Txy= Matrix([x+k*y, x+k, y])\n",
    "# Tu = Eq(x+k*y,0)\n",
    "# Tv = Eq(x+k,0)\n",
    "# Tt = Eq(y,0)\n",
    "\n",
    "r=dict(k=x)\n",
    "Ta=Txy.subs(r)\n",
    "print(f'a-) k=x\\n T(x,y)={Ta[0],Ta[1],Ta[2]}')\n",
    "print('O termo xy na primeira coordenada indica que é de segundo grau, portanto T não será linear')\n",
    "cTA = c*Ta\n",
    "r=dict(x=x*c, y=y*c)\n",
    "Tcacb=Ta.subs(r)\n",
    "print('Verificando o axioma distributividade temos que T(\\u03BBx,\\u03BBy)\\u2260\\u03BBT(x,y)')\n",
    "print(f'{Tcacb}\\u2260{cTA}')\n",
    "print('\\nPortanto T não é linear para k=x')"
   ],
   "metadata": {
    "collapsed": false,
    "pycharm": {
     "name": "#%%\n"
    }
   }
  },
  {
   "cell_type": "code",
   "execution_count": 4,
   "outputs": [
    {
     "name": "stdout",
     "output_type": "stream",
     "text": [
      "b-) k=1\n",
      " T(x,y)=(x + y, x + 1, y)\n",
      "Para T(0,0) temos (0, 1, 0) ≠ (0,0,0), portanto T não é linear para k=1\n"
     ]
    }
   ],
   "source": [
    "r=dict(k=1)\n",
    "Ta=Txy.subs(r)\n",
    "print(f'b-) k=1\\n T(x,y)={Ta[0],Ta[1],Ta[2]}')\n",
    "Ta=Ta.subs(dict(x=0,y=0))\n",
    "print(f'Para T(0,0) temos {Ta[0],Ta[1],Ta[2]} \\u2260 (0,0,0), portanto T não é linear para k=1')"
   ],
   "metadata": {
    "collapsed": false,
    "pycharm": {
     "name": "#%%\n"
    }
   }
  },
  {
   "cell_type": "code",
   "execution_count": 5,
   "outputs": [
    {
     "name": "stdout",
     "output_type": "stream",
     "text": [
      "c-) k=0\n",
      " T(x,y)=(x, x, y)\n",
      "Para T(0,0) temos (0, 0, 0) = (0, 0, 0)\n",
      "Verificando o axioma distributividade temos que T(λx,λy)=λT(x,y)\n",
      "Matrix([[c*x], [c*x], [c*y]])=Matrix([[c*x], [c*x], [c*y]])\n",
      "\n",
      "Portanto T é linear para k=0\n"
     ]
    }
   ],
   "source": [
    "r=dict(k=0)\n",
    "Ta=Txy.subs(r)\n",
    "print(f'c-) k=0\\n T(x,y)={Ta[0],Ta[1],Ta[2]}')\n",
    "Tz=Ta.subs(dict(x=0,y=0))\n",
    "print(f'Para T(0,0) temos {Tz[0],Tz[1],Tz[2]} = (0, 0, 0)')\n",
    "cTA = c*Ta\n",
    "r=dict(x=x*c, y=y*c)\n",
    "Tcacb=Ta.subs(r)\n",
    "print('Verificando o axioma distributividade temos que T(\\u03BBx,\\u03BBy)=\\u03BBT(x,y)')\n",
    "print(f'{Tcacb}={cTA}')\n",
    "print('\\nPortanto T é linear para k=0')"
   ],
   "metadata": {
    "collapsed": false,
    "pycharm": {
     "name": "#%%\n"
    }
   }
  },
  {
   "cell_type": "markdown",
   "source": [
    "### 3. Seja T:ℝ² → ℝ³ uma transformação linear definida por T(−2, 3) = (−1, 0, 1) e T(1, −2) = (0, −1, 0)."
   ],
   "metadata": {
    "collapsed": false,
    "pycharm": {
     "name": "#%% md\n"
    }
   }
  },
  {
   "cell_type": "markdown",
   "source": [
    "#### a) Determinar T(x, y)"
   ],
   "metadata": {
    "collapsed": false,
    "pycharm": {
     "name": "#%% md\n"
    }
   }
  },
  {
   "cell_type": "code",
   "execution_count": 6,
   "outputs": [
    {
     "name": "stdout",
     "output_type": "stream",
     "text": [
      "T(0,1)=Matrix([[1, 2, -1]]),T(1,0)=Matrix([[2, 3, -2]])\n",
      "\n",
      "T(x,y)=Matrix([[2*x, y], [3*x, 2*y], [-2*x, -y]])\n",
      "\n",
      "Na primeira equação temos o valor de y=-2*x\n",
      "Substituito na 2a (3*x + 2*y)\n",
      " temos -x=0\n",
      "Portanto x=y=0\n"
     ]
    }
   ],
   "source": [
    "#T(x,y)\n",
    "T10 = Matrix([1,0]) #x\n",
    "T01 = Matrix([0,1]) #y\n",
    "Ta = Matrix([-2, 3])\n",
    "Tb = Matrix([1, -2])\n",
    "Tbr=Matrix([[0,-1,0]])\n",
    "#Ts = Ta[0]*T10+Ta[1]*T01\n",
    "Ts = Matrix([[Ta[0]*x,Ta[1]*y,-1,0,1],[Tb[0]*x,Tb[1]*y,0,-1,0]])\n",
    "#Multiplicando a segunda equação por  e somando com a primeira\n",
    "eq1 =((Ts[1,:]*2)+Ts[0,:])*-1\n",
    "Tar = Matrix([[eq1[2],eq1[3],eq1[4]]])\n",
    "#Substituindo isso na segunda equação do sistema\n",
    "Tbr=2*Tar+Ts[1,2:5]\n",
    "print(f'T(0,1)={Tar},T(1,0)={Tbr}\\n')\n",
    "#Para achar T(x,y)\n",
    "s=Matrix([[],[]])\n",
    "s=s.col_insert(0,(Tbr*x).T)\n",
    "s=s.col_insert(1,(Tar*y).T)\n",
    "print(f'T(x,y)={s}\\n')\n",
    "vy = solve(s[0,0]+s[0,1],y)[0]\n",
    "print(f'Na primeira equação temos o valor de y={vy}')\n",
    "vx = s[1,0]+s[1,1]\n",
    "print(f'Substituito na 2a ({vx})')\n",
    "vx = vx.subs(dict(y=vy))\n",
    "print(f' temos {vx}=0')\n",
    "solve(vx)\n",
    "print(f'Portanto x=y=0')"
   ],
   "metadata": {
    "collapsed": false,
    "pycharm": {
     "name": "#%%\n"
    }
   }
  },
  {
   "cell_type": "markdown",
   "source": [
    "### b) Determinar N(T) e Im(T)"
   ],
   "metadata": {
    "collapsed": false,
    "pycharm": {
     "name": "#%% md\n"
    }
   }
  },
  {
   "cell_type": "code",
   "execution_count": 7,
   "outputs": [
    {
     "name": "stdout",
     "output_type": "stream",
     "text": [
      "Como a solução é x=y=0, o núcleo só tem o vetor nulo ker(T)={(0,0)}.\n",
      "O conjunto B (de T(x,y)) =Matrix([[2, 3, -2], [1, 2, -1]]) = Im(T) (B é gerador de Im(T), B é LI -> também base da imagem)\n"
     ]
    }
   ],
   "source": [
    "print(f'Como a solução é x=y=0, o núcleo só tem o vetor nulo ker(T)={{(0,0)}}.')\n",
    "img = s.subs(dict(x=1,y=1)).T\n",
    "print(f'O conjunto B (de T(x,y)) ={img} = Im(T) (B é gerador de Im(T), B é LI -> também base da imagem)')"
   ],
   "metadata": {
    "collapsed": false,
    "pycharm": {
     "name": "#%%\n"
    }
   }
  },
  {
   "cell_type": "markdown",
   "source": [
    "### 4. O vetor v = (3; 2) experimenta sequencialmente:\n",
    "##### (a) Uma reflexão em torno da reta y = x;\n",
    "##### (b) Um cisalhamento horizontal de fator 2;\n",
    "##### (c) Uma contração na direção Oy de fator 1/3\n",
    "##### (d) Uma rotação de 90° no sentido anti-horário.\n",
    "#### 1) Calcular o vetor resultade dessa sequência de operações.\n",
    "#### 2) Encontrar a expressão da transformação linear T : ℝ² → ℝ² que representa a composta das quatro operações."
   ],
   "metadata": {
    "collapsed": false,
    "pycharm": {
     "name": "#%% md\n"
    }
   }
  },
  {
   "cell_type": "markdown",
   "source": [
    "\n"
   ],
   "metadata": {
    "collapsed": false,
    "pycharm": {
     "name": "#%% md\n"
    }
   }
  },
  {
   "cell_type": "code",
   "execution_count": 12,
   "outputs": [
    {
     "name": "stdout",
     "output_type": "stream",
     "text": [
      "O vetor v=(3,2) apresenta:\n",
      "(a) Uma reflexão em torno da reta y = x, ∴ (x,y) → (y,x). Assim:\n",
      "[D]=\n"
     ]
    },
    {
     "data": {
      "text/plain": "Matrix([\n[0, 1],\n[1, 0]])",
      "text/latex": "$\\displaystyle \\left[\\begin{matrix}0 & 1\\\\1 & 0\\end{matrix}\\right]$"
     },
     "metadata": {},
     "output_type": "display_data"
    },
    {
     "name": "stdout",
     "output_type": "stream",
     "text": [
      "(b) Um cisalhamento horizontal de fator 2, ∴ (x,y) → (x+2y,y). Assim: \n",
      "[C]=\n"
     ]
    },
    {
     "data": {
      "text/plain": "Matrix([\n[1, 2],\n[0, 1]])",
      "text/latex": "$\\displaystyle \\left[\\begin{matrix}1 & 2\\\\0 & 1\\end{matrix}\\right]$"
     },
     "metadata": {},
     "output_type": "display_data"
    },
    {
     "name": "stdout",
     "output_type": "stream",
     "text": [
      "(c) Uma contração na direção Oy de fator 1/3, ∴ (x,y) → (x,y/3). Assim: \n",
      "[B]=\n"
     ]
    },
    {
     "data": {
      "text/plain": "Matrix([\n[1,                 0],\n[0, 0.333333333333333]])",
      "text/latex": "$\\displaystyle \\left[\\begin{matrix}1 & 0\\\\0 & 0.333333333333333\\end{matrix}\\right]$"
     },
     "metadata": {},
     "output_type": "display_data"
    },
    {
     "name": "stdout",
     "output_type": "stream",
     "text": [
      "(4) Uma rotação com 90° no sentido horário, ∴ (x,y) → (y,-x). Usando a matriz rotação com θ = 90°:\n",
      "[A]=\n"
     ]
    },
    {
     "data": {
      "text/plain": "Matrix([\n[ 0, 1],\n[-1, 0]])",
      "text/latex": "$\\displaystyle \\left[\\begin{matrix}0 & 1\\\\-1 & 0\\end{matrix}\\right]$"
     },
     "metadata": {},
     "output_type": "display_data"
    }
   ],
   "source": [
    "v=Matrix([[3, 2]])\n",
    "print('O vetor v=(3,2) apresenta:')\n",
    "print('(a) Uma reflexão em torno da reta y = x, \\u2234 (x,y) → (y,x). Assim:\\n[D]=')\n",
    "D = Matrix([[0,1],[1,0]])\n",
    "display(D)\n",
    "print('(b) Um cisalhamento horizontal de fator 2, ∴ (x,y) → (x+2y,y). Assim: \\n[C]=')\n",
    "C = Matrix([[1, 2], [0, 1]])\n",
    "display(C)\n",
    "print('(c) Uma contração na direção Oy de fator 1/3, ∴ (x,y) → (x,y/3). Assim: \\n[B]=')\n",
    "B = Matrix([[1, 0],[0, (1/3)]])\n",
    "display(B)\n",
    "print('(4) Uma rotação com 90° no sentido anti-horário, ∴ (x,y) → (-y,x). Usando a matriz rotação com \\u03B8 = 90°:\\n[A]=')\n",
    "A= Matrix([[0,-1],[1,0]])\n",
    "display(A)"
   ],
   "metadata": {
    "collapsed": false,
    "pycharm": {
     "name": "#%%\n"
    }
   }
  },
  {
   "cell_type": "code",
   "execution_count": 13,
   "outputs": [
    {
     "name": "stdout",
     "output_type": "stream",
     "text": [
      "Precisaremos da Matriz Canônica, para isto: [A∘B∘C∘D]=[A]∙[B]∙[C]∙[D]\n",
      "Assim, a matriz resultante será:\n",
      "\t [T]=[A]∙[B]∙[C]∙[D]=\n"
     ]
    },
    {
     "data": {
      "text/plain": "Matrix([\n[0.333333333333333,  0],\n[               -2, -1]])",
      "text/latex": "$\\displaystyle \\left[\\begin{matrix}0.333333333333333 & 0\\\\-2 & -1\\end{matrix}\\right]$"
     },
     "metadata": {},
     "output_type": "display_data"
    },
    {
     "name": "stdout",
     "output_type": "stream",
     "text": [
      "Multiplicando esta matriz por (x,y)) podemos responder ao item B:\n"
     ]
    },
    {
     "data": {
      "text/plain": "Matrix([\n[0.333333333333333*x],\n[           -2*x - y]])",
      "text/latex": "$\\displaystyle \\left[\\begin{matrix}0.333333333333333 x\\\\- 2 x - y\\end{matrix}\\right]$"
     },
     "metadata": {},
     "output_type": "display_data"
    },
    {
     "name": "stdout",
     "output_type": "stream",
     "text": [
      "T(x,y)=(0.333333333333333*x,-2*x - y)\n",
      "Substituindo os valores de v, temos a resposta para o item A:\n",
      "T(3,2)=(1,-8)\n"
     ]
    }
   ],
   "source": [
    "print(f'Precisaremos da Matriz Canônica, para isto: [A\\u2218B∘C∘D]=[A]\\u2219[B]∙[C]∙[D]')\n",
    "print(f'Assim, a matriz resultante será:\\n\\t [T]=[A]∙[B]∙[C]∙[D]=')\n",
    "T=A*B*C*D\n",
    "display(T)\n",
    "print('Multiplicando esta matriz por (x,y)) podemos responder ao item B:')\n",
    "xy = Matrix([x, y])\n",
    "Txy=T*xy\n",
    "display(Txy)\n",
    "print(f'T(x,y)=({Txy[0,0]},{Txy[1,0]})')\n",
    "print('Substituindo os valores de v, temos a resposta para o item A:')\n",
    "respA = Txy.subs(dict(x=3,y=2))\n",
    "print(f'T(3,2)=({respA[0]:.0f},{respA[1]})')"
   ],
   "metadata": {
    "collapsed": false,
    "pycharm": {
     "name": "#%%\n"
    }
   }
  }
 ],
 "metadata": {
  "kernelspec": {
   "display_name": "Python 3",
   "language": "python",
   "name": "python3"
  },
  "language_info": {
   "codemirror_mode": {
    "name": "ipython",
    "version": 2
   },
   "file_extension": ".py",
   "mimetype": "text/x-python",
   "name": "python",
   "nbconvert_exporter": "python",
   "pygments_lexer": "ipython2",
   "version": "2.7.6"
  }
 },
 "nbformat": 4,
 "nbformat_minor": 0
}