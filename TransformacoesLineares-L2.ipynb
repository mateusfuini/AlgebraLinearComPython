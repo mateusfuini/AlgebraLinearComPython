{
 "cells": [
  {
   "cell_type": "markdown",
   "metadata": {
    "collapsed": true,
    "pycharm": {
     "name": "#%% md\n"
    }
   },
   "source": [
    "# Mateus Guilherme Fuini\n",
    "# Lista 2 - Álgebra Linear\n",
    "### 1 - Verifique se o conjunto A = {[[0, a],[b, 0]]∈ M(2,2); a,b ∈ a ℝ} com as operações usuais é um espaço vetorial."
   ]
  },
  {
   "cell_type": "code",
   "execution_count": 2,
   "metadata": {
    "pycharm": {
     "name": "#%%\n"
    }
   },
   "outputs": [
    {
     "name": "stdout",
     "output_type": "stream",
     "text": [
      "Satisfaz a comutatividade A1+A2 = A2+A1\n",
      "Satisfaz a associatividade da soma (A1+A2)+A3 = A1+(A2+A3)\n",
      "Satisfaz a condição de existência de elemento neutro da adição A1+O = A1\n",
      "Satisfaz a condição de existência do elemento oposto aditivo A1+(-A1) = 0\n",
      "Satisfaz a associatividade da multiplicação (αβ)A1 = α(βA1)\n",
      "*Não satisfaz a  distributividade  (α + β)A1 = αA1 + βA1\n"
     ]
    },
    {
     "data": {
      "text/plain": "Matrix([\n[         0, a1*(x + y)],\n[b1*(x + y),          0]])",
      "text/latex": "$\\displaystyle \\left[\\begin{matrix}0 & a_{1} \\left(x + y\\right)\\\\b_{1} \\left(x + y\\right) & 0\\end{matrix}\\right]$"
     },
     "metadata": {},
     "output_type": "display_data"
    },
    {
     "data": {
      "text/plain": "Matrix([\n[          0, a1*x + a1*y],\n[b1*x + b1*y,           0]])",
      "text/latex": "$\\displaystyle \\left[\\begin{matrix}0 & a_{1} x + a_{1} y\\\\b_{1} x + b_{1} y & 0\\end{matrix}\\right]$"
     },
     "metadata": {},
     "output_type": "display_data"
    },
    {
     "name": "stdout",
     "output_type": "stream",
     "text": [
      "*Satisfaz, porém não consegui isolar o fator para que a comparação seja igual\n",
      "*Não satisfaz a  distributividade  α(A1+A2) = αA1 + αA2\n"
     ]
    },
    {
     "data": {
      "text/plain": "Matrix([\n[          0, x*(a1 + a2)],\n[x*(b1 + b2),           0]])",
      "text/latex": "$\\displaystyle \\left[\\begin{matrix}0 & x \\left(a_{1} + a_{2}\\right)\\\\x \\left(b_{1} + b_{2}\\right) & 0\\end{matrix}\\right]$"
     },
     "metadata": {},
     "output_type": "display_data"
    },
    {
     "data": {
      "text/plain": "Matrix([\n[          0, a1*x + a2*x],\n[b1*x + b2*x,           0]])",
      "text/latex": "$\\displaystyle \\left[\\begin{matrix}0 & a_{1} x + a_{2} x\\\\b_{1} x + b_{2} x & 0\\end{matrix}\\right]$"
     },
     "metadata": {},
     "output_type": "display_data"
    },
    {
     "name": "stdout",
     "output_type": "stream",
     "text": [
      "*Satisfaz, porém não consegui isolar o fator para que a comparação seja igual\n",
      "Satisfaz a condição de existência do elemento neutro multiplicativo 1.A1 = A1\n"
     ]
    }
   ],
   "source": [
    "from sympy import symbols, Matrix, zeros, expand, simplify, factor\n",
    "from IPython.display import display\n",
    "a1, a2, a3, b1, b2, b3, x, y = symbols('a1 a2 a3 b1 b2 b3 x y')\n",
    "A1 = Matrix([[0, a1],[b1, 0]])\n",
    "A2 = Matrix([[0, a2],[b2, 0]])\n",
    "A3 = Matrix([[0, a3],[b3, 0]])\n",
    "#1\n",
    "if A1+A2==A2+A1:\n",
    "    print('Satisfaz a comutatividade A1+A2 = A2+A1')\n",
    "else:\n",
    "    print('Não satisfaz a  comutatividade')\n",
    "#2\n",
    "if (A1+A2)+A3==A1+(A2+A3):\n",
    "    print('Satisfaz a associatividade da soma (A1+A2)+A3 = A1+(A2+A3)')\n",
    "else:\n",
    "    print('Não satisfaz a  associatividade')\n",
    "#3\n",
    "O = zeros(2,2)\n",
    "if A1+O==A1:\n",
    "    print('Satisfaz a condição de existência de elemento neutro da adição A1+O = A1')\n",
    "else:\n",
    "    print('Não satisfaz a condição de existência de elemento neutro da adição')\n",
    "#4\n",
    "if A1+(A1*-1)==O:\n",
    "    print('Satisfaz a condição de existência do elemento oposto aditivo A1+(-A1) = 0')\n",
    "else:\n",
    "    print('Não satisfaz a condição de existência do elemento oposto aditivo')\n",
    "#5\n",
    "if (x*y)*A1==x*(y*A1):\n",
    "    print('Satisfaz a associatividade da multiplicação (αβ)A1 = α(βA1)')\n",
    "else:\n",
    "    print('Não satisfaz a  associatividade da multiplicação  (αβ)A1 = α(βA1)')\n",
    "#6\n",
    "if (x+y)*A1==(x*A1)+simplify(y*A1):\n",
    "    print('Satisfaz a distributividade (α + β)A1 = αA1 + βA1')\n",
    "else:\n",
    "    print('*Não satisfaz a  distributividade  (α + β)A1 = αA1 + βA1')\n",
    "    display(simplify(x+y)*A1)\n",
    "    display(expand(x*A1)+(y*A1))\n",
    "    print('*Satisfaz, porém o fator não foi isolado para que a comparação seja igual')\n",
    "#7\n",
    "if x*(A1+A2)==(x*A1)+(x*A2):\n",
    "    print('Satisfaz a distributividade α(A1+A2) = αA1 + αA2')\n",
    "else:\n",
    "    print('*Não satisfaz a  distributividade  α(A1+A2) = αA1 + αA2')\n",
    "    display(factor(x*(A1+A2)))\n",
    "    display(factor((x*A1)+(x*A2)))\n",
    "    print('*Satisfaz, porém o fator não foi isolado para que a comparação seja igual')\n",
    "#8\n",
    "if A1*1 == A1:\n",
    "    print('Satisfaz a condição de existência do elemento neutro multiplicativo 1.A1 = A1')\n",
    "else:\n",
    "    print('Não satisfaz a condição de existência do elemento neutro multiplicativo')\n"
   ]
  },
  {
   "cell_type": "markdown",
   "metadata": {
    "pycharm": {
     "name": "#%% md\n"
    }
   },
   "source": [
    "### 2 - O conjunto S = {(x, y)|x+3y = 0} é um subconjunto do  ℝ². Verifique se é um subespaço vetorial relativo às operações de adição e multiplicação por escalar usuais."
   ]
  },
  {
   "cell_type": "code",
   "execution_count": 3,
   "outputs": [
    {
     "name": "stdout",
     "output_type": "stream",
     "text": [
      "Satisfaz a condição da existência devetor nulo\n",
      "Satisfaz a condição da soma do vetor\n",
      "Satisfaz a condição da multiplicacao do vetor\n",
      "O Conjunto S=x + 3*y é um subespaço vetorial relativo as operações de adição e multiplicação\n"
     ]
    }
   ],
   "source": [
    "from sympy import symbols, Matrix\n",
    "a1, a2, n, m, x, y = symbols('a1 a2 n m x y')\n",
    "#v = Matrix([x, 3*y, 0])\n",
    "v = Matrix([x+3*y])\n",
    "A1 = Matrix([a1, 3*b1])\n",
    "A2 = Matrix([a2, 3*b2])\n",
    "\n",
    "#Verificar a existência de um vetor nulo - Ponto(0,0)\n",
    "if v.subs([(x,0),(y,0)])==Matrix([0]):\n",
    "    print('Satisfaz a condição da existência devetor nulo')\n",
    "    if A1+A2==A2+A1:\n",
    "        print('Satisfaz a condição da soma do vetor')\n",
    "        if (n*m)*A1==n*(m*A1):\n",
    "            print('Satisfaz a condição da multiplicacao do vetor')\n",
    "            print(f'O Conjunto S={v[0]} é um subespaço vetorial relativo as operações de adição e multiplicação')\n"
   ],
   "metadata": {
    "collapsed": false,
    "pycharm": {
     "name": "#%%\n"
    }
   }
  },
  {
   "cell_type": "markdown",
   "source": [
    "### 3 - Sejam os vetores u=(2,-3, 2) e v=(-1,2,4) em ℝ³."
   ],
   "metadata": {
    "collapsed": false,
    "pycharm": {
     "name": "#%% md\n"
    }
   }
  },
  {
   "cell_type": "code",
   "execution_count": 4,
   "metadata": {
    "pycharm": {
     "name": "#%%\n"
    }
   },
   "outputs": [],
   "source": [
    "from sympy import Matrix, solve\n",
    "from sympy import symbols\n",
    "from IPython.display import display"
   ]
  },
  {
   "cell_type": "code",
   "execution_count": 5,
   "metadata": {
    "pycharm": {
     "name": "#%%\n"
    }
   },
   "outputs": [],
   "source": [
    "a, b, c = symbols('a b c')\n",
    "u=Matrix([2,-3,2])*a\n",
    "v=Matrix([-1,2,4])*b"
   ]
  },
  {
   "cell_type": "markdown",
   "metadata": {
    "pycharm": {
     "name": "#%% md\n"
    }
   },
   "source": [
    "#### a) Escreva o vetor w = (7, -11, 2) como combinação linear de u e v"
   ]
  },
  {
   "cell_type": "code",
   "execution_count": 6,
   "metadata": {
    "pycharm": {
     "name": "#%%\n"
    }
   },
   "outputs": [
    {
     "name": "stdout",
     "output_type": "stream",
     "text": [
      "Resposta: w=3u-1v\n"
     ]
    }
   ],
   "source": [
    "w=Matrix([7,-11,2])\n",
    "s=Matrix()\n",
    "#soma os vetores\n",
    "s=u+v\n",
    "#resolve o sistema linear\n",
    "r=solve(s-w)\n",
    "print(f'Resposta: w={r[a]}u{r[b]}v')"
   ]
  },
  {
   "cell_type": "markdown",
   "metadata": {
    "pycharm": {
     "name": "#%% md\n"
    }
   },
   "source": [
    "#### b) Para que valores de k o vetor (-8, 14, k) é combinação linear de u e v?"
   ]
  },
  {
   "cell_type": "code",
   "execution_count": 7,
   "metadata": {
    "pycharm": {
     "name": "#%%\n"
    }
   },
   "outputs": [
    {
     "name": "stdout",
     "output_type": "stream",
     "text": [
      "Resposta: k = 12\n"
     ]
    }
   ],
   "source": [
    "k = symbols('k')\n",
    "wb=Matrix([-8,14,k])\n",
    "#soma os vetores\n",
    "s=u+v\n",
    "#resolve o sistema linear\n",
    "r=solve(s-wb)\n",
    "print(f'Resposta: k = {r[k]}')"
   ]
  },
  {
   "cell_type": "markdown",
   "metadata": {
    "pycharm": {
     "name": "#%% md\n"
    }
   },
   "source": [
    "#### c) Determinar uma condição entre a, b e c para que o vetor (a, b, c) seja uma combinação linear de u e v."
   ]
  },
  {
   "cell_type": "code",
   "execution_count": 8,
   "metadata": {
    "pycharm": {
     "name": "#%%\n"
    }
   },
   "outputs": [
    {
     "name": "stdout",
     "output_type": "stream",
     "text": [
      "\n",
      "###Por Escalonamento usando Sympy###\n",
      "Sistema:\n"
     ]
    },
    {
     "data": {
      "text/plain": "Matrix([\n[ 2*x,  -y, a],\n[-3*x, 2*y, b],\n[ 2*x, 4*y, c]])",
      "text/latex": "$\\displaystyle \\left[\\begin{matrix}2 x & - y & a\\\\- 3 x & 2 y & b\\\\2 x & 4 y & c\\end{matrix}\\right]$"
     },
     "metadata": {},
     "output_type": "display_data"
    },
    {
     "name": "stdout",
     "output_type": "stream",
     "text": [
      "Matriz escalonada\n"
     ]
    },
    {
     "data": {
      "text/plain": "Matrix([\n[2*x,  -y,                a],\n[  0, y/2,        3*a/2 + b],\n[  0,   0, -16*a - 10*b + c]])",
      "text/latex": "$\\displaystyle \\left[\\begin{matrix}2 x & - y & a\\\\0 & \\frac{y}{2} & \\frac{3 a}{2} + b\\\\0 & 0 & - 16 a - 10 b + c\\end{matrix}\\right]$"
     },
     "metadata": {},
     "output_type": "display_data"
    },
    {
     "name": "stdout",
     "output_type": "stream",
     "text": [
      "Resposta:\n"
     ]
    },
    {
     "data": {
      "text/plain": "16*a + 10*b - c",
      "text/latex": "$\\displaystyle 16 a + 10 b - c$"
     },
     "metadata": {},
     "output_type": "display_data"
    }
   ],
   "source": [
    "#Resolver por escalonamento\n",
    "u=Matrix([2,-3,2])\n",
    "v=Matrix([-1,2,4])\n",
    "wc=Matrix([a,b,c])\n",
    "#L = Matrix([[u[0],v[0],wc[0]],[u[1],v[1],wc[1]],[u[2],v[2],wc[2]]])\n",
    "# L0 = Matrix([[u[0],v[0],wc[0]]])\n",
    "# L1 = Matrix([[u[1],v[1],wc[1]]])\n",
    "# L2 = Matrix([[u[2],v[2],wc[2]]])\n",
    "# L1 = L1*2\n",
    "# L1 = L0*3+L1\n",
    "# L2 = L2-L0\n",
    "# L2= L1*5-L2\n",
    "# print(f'Por Escalonamento `Manual` Resposta:')\n",
    "# display(Eq(L2[2],0))\n",
    "\n",
    "#Utilizando SYMPY\n",
    "print(f'\\n###Por Escalonamento usando Sympy###')\n",
    "s=Matrix([[],[]])\n",
    "s=s.col_insert(0,u*x)\n",
    "s=s.col_insert(1,v*y)\n",
    "s=s.col_insert(2,wc)\n",
    "print('Sistema:')\n",
    "display(s)\n",
    "s=s.LUdecomposition()\n",
    "print('Matriz escalonada')\n",
    "display(s[1])\n",
    "print('Resposta:')\n",
    "display(-1*s[1][8])\n",
    "\n",
    "# print(f'Resposta:')\n",
    "# Eq(L[2][2],0)"
   ]
  },
  {
   "cell_type": "markdown",
   "metadata": {
    "pycharm": {
     "name": "#%% md\n"
    }
   },
   "source": [
    "### 4 - Seja o conjunto A = (v1, v2), sendo v1 = (-1, 3, 1) e v2 = (1,-2,4). Determinar:"
   ]
  },
  {
   "cell_type": "code",
   "execution_count": 9,
   "metadata": {
    "pycharm": {
     "name": "#%%\n"
    }
   },
   "outputs": [],
   "source": [
    "a, b = symbols('a b')\n",
    "x, y, z = symbols('x y z')\n",
    "v=Matrix([1 ,-2, 4])*b\n",
    "u=Matrix([-1, 3,1])*a\n",
    "w=Matrix([x,y,z])"
   ]
  },
  {
   "cell_type": "markdown",
   "metadata": {
    "pycharm": {
     "name": "#%% md\n"
    }
   },
   "source": [
    "#### a-) O subespaço G(A)"
   ]
  },
  {
   "cell_type": "code",
   "execution_count": 10,
   "metadata": {
    "pycharm": {
     "name": "#%%\n"
    }
   },
   "outputs": [
    {
     "name": "stdout",
     "output_type": "stream",
     "text": [
      "Sistema:\n"
     ]
    },
    {
     "data": {
      "text/plain": "Matrix([\n[ -a*x*y,    b*y, x],\n[3*a*x*y, -2*b*y, y],\n[  a*x*y,  4*b*y, z]])",
      "text/latex": "$\\displaystyle \\left[\\begin{matrix}- a x y & b y & x\\\\3 a x y & - 2 b y & y\\\\a x y & 4 b y & z\\end{matrix}\\right]$"
     },
     "metadata": {},
     "output_type": "display_data"
    },
    {
     "name": "stdout",
     "output_type": "stream",
     "text": [
      "Matriz resultante\n"
     ]
    },
    {
     "data": {
      "text/plain": "Matrix([\n[-a*x*y, b*y,               x],\n[     0, b*y,         3*x + y],\n[     0,   0, -14*x - 5*y + z]])",
      "text/latex": "$\\displaystyle \\left[\\begin{matrix}- a x y & b y & x\\\\0 & b y & 3 x + y\\\\0 & 0 & - 14 x - 5 y + z\\end{matrix}\\right]$"
     },
     "metadata": {},
     "output_type": "display_data"
    },
    {
     "name": "stdout",
     "output_type": "stream",
     "text": [
      "Resposta:\n"
     ]
    },
    {
     "data": {
      "text/plain": "14*x + 5*y - z",
      "text/latex": "$\\displaystyle 14 x + 5 y - z$"
     },
     "metadata": {},
     "output_type": "display_data"
    },
    {
     "name": "stdout",
     "output_type": "stream",
     "text": [
      "G(A)={(x,y,z) ∈ a ℝ³;14*x + 5*y - z=0}\n"
     ]
    }
   ],
   "source": [
    "s=Matrix([[],[]])\n",
    "s=s.col_insert(0,u)*x\n",
    "s=s.col_insert(1,v)*y\n",
    "s=s.col_insert(2,w)\n",
    "print('Sistema:')\n",
    "display(s)\n",
    "s=s.LUdecomposition()\n",
    "print('Matriz resultante')\n",
    "display(s[1])\n",
    "print('Resposta:')\n",
    "r=-1*s[1][8]\n",
    "display(r)\n",
    "print(f'G(A)={{(x,y,z) ∈ a ℝ³;{r}=0}}')\n",
    "#solve_linear_system(system,x,y)"
   ]
  },
  {
   "cell_type": "markdown",
   "metadata": {
    "pycharm": {
     "name": "#%% md\n"
    }
   },
   "source": [
    "#### b) O valor de k para que o vetor v = (5; k; 11) pertença a G(A)."
   ]
  },
  {
   "cell_type": "code",
   "execution_count": 11,
   "metadata": {
    "pycharm": {
     "name": "#%%\n"
    }
   },
   "outputs": [
    {
     "name": "stdout",
     "output_type": "stream",
     "text": [
      "O valor de k=-59/5\n"
     ]
    }
   ],
   "source": [
    "k = symbols('k')\n",
    "v=dict(x=5,y=k,z=11)\n",
    "k_value=solve(r.subs(v),k)\n",
    "print(f'O valor de k={k_value[0]}')"
   ]
  },
  {
   "cell_type": "markdown",
   "metadata": {
    "pycharm": {
     "name": "#%% md\n"
    }
   },
   "source": [
    "### 5 - Verificar quais dos seguintes vetores formam uma base do ℝ²"
   ]
  },
  {
   "cell_type": "code",
   "execution_count": 12,
   "metadata": {
    "pycharm": {
     "name": "#%%\n"
    }
   },
   "outputs": [
    {
     "name": "stdout",
     "output_type": "stream",
     "text": [
      "Os vetores {(1, 2), (-1, 3)} formam base do ℝ²\n",
      "Os vetores {(3, -6), (-4, 8)} NÃO formam base do ℝ²\n",
      "Os vetores {(0, 0), (2, 3)} NÃO formam base do ℝ²\n",
      "Os vetores {(3, -1), (2, 3)} formam base do ℝ²\n"
     ]
    }
   ],
   "source": [
    "#Um conjunto de dois vetores do ℝ² formam base ℝ² quando eles são linearmente independentes (LI).\n",
    "Conjunto = {1:{'a1':(1,2),'a2':(-1,3)},2:{'a1':(3,-6), 'a2':(-4,8)},3:{'a1':(0,0),'a2':(2,3)},4:{'a1':(3,-1),'a2':(2,3)}}\n",
    "#{0,0), (2,3)} - Todo conjunto que tem um vetor nulo é LD\n",
    "\n",
    "for exerc in Conjunto.keys():\n",
    "    cjto = f\"{Conjunto[exerc]['a1']}, {Conjunto[exerc]['a2']}\"\n",
    "    u = Matrix([Conjunto[exerc]['a1'][0],Conjunto[exerc]['a1'][1]])*a\n",
    "    v = Matrix([Conjunto[exerc]['a2'][0],Conjunto[exerc]['a2'][1]])*b\n",
    "    r=solve(u+v)\n",
    "    if len(r) == 2:\n",
    "        if r[a]==0 and r[b]==0:\n",
    "            print(f'Os vetores {{{cjto}}} formam base do ℝ²')\n",
    "        else:\n",
    "            print(f'Os veores {{{cjto}}} NÃO formam base do ℝ²')\n",
    "    else:\n",
    "        print(f'Os vetores {{{cjto}}} NÃO formam base do ℝ²')"
   ]
  },
  {
   "cell_type": "markdown",
   "source": [
    "### 6 - Determinar a dimensão e uma base para o espaço-solução do sistema $$ S =  \\left\\{\\begin{array}\\\\ x + 2y - 2z - t = 0 \\\\ 2x + 4y + z + t = 0 \\\\ x + 2y + 3z + 2t = 0\\end{array}\\right. $$"
   ],
   "metadata": {
    "collapsed": false,
    "pycharm": {
     "name": "#%% md\n"
    }
   }
  },
  {
   "cell_type": "code",
   "execution_count": 14,
   "outputs": [
    {
     "data": {
      "text/plain": "{x: -t/5 - 2*y, z: -3*t/5}"
     },
     "metadata": {},
     "output_type": "display_data"
    },
    {
     "data": {
      "text/plain": "Matrix([[-t/5 - 2*y, y, -3*t/5, t]])",
      "text/latex": "$\\displaystyle \\left[\\begin{matrix}- \\frac{t}{5} - 2 y & y & - \\frac{3 t}{5} & t\\end{matrix}\\right]$"
     },
     "metadata": {},
     "output_type": "display_data"
    },
    {
     "name": "stdout",
     "output_type": "stream",
     "text": [
      "O subespaço pode ser escrito na forma:{(x,y,z,t)|(-t/5 - 2*y,y,-3*t/5,t)}\n",
      "Como são duas variáveis, a DIMENSÃO É 2\n",
      "Possível base B\n"
     ]
    },
    {
     "data": {
      "text/plain": "(Matrix([[-2, 1, 0, 0]]), Matrix([[-1/5, 0, -3/5, 1]]))"
     },
     "metadata": {},
     "output_type": "display_data"
    }
   ],
   "source": [
    "from sympy import symbols, Eq, solve, Matrix\n",
    "from IPython.display import display\n",
    "x, y, z, t = symbols('x y z t')\n",
    "eq1 = Eq(x + 2*y - 2*z - t,0)\n",
    "eq2 = Eq(2*x+4*y+z+t,0)\n",
    "eq3 = Eq(x+2*y+3*z+2*t,0)\n",
    "#sol = solve((eq1, eq2, eq3),(x, y, z, t))\n",
    "#display(sol)\n",
    "#Isolar x na 1a equação\n",
    "v_x = solve(eq1,x)\n",
    "v_x=v_x[0]\n",
    "#Substitui na 2a\n",
    "v_z = solve(eq2.subs([(x,v_x)]),z)\n",
    "#Substitui z na anterior\n",
    "v_x2 = v_x.subs(z,v_z[0])\n",
    "#Verificar se esses valores satisfazem a 3a equação (0=0)\n",
    "if eq3.subs([(x, v_x2), (z, v_z[0])]):\n",
    "    se = Matrix([[v_x2,y,v_z[0],t]])\n",
    "    display(se)\n",
    "    print(f'O subespaço pode ser escrito na forma:{{(x,y,z,t)|({v_x2},y,{v_z[0]},t)}}')\n",
    "    print('Como são duas variáveis, a DIMENSÃO É 2')\n",
    "    print('Possível base B')\n",
    "    display(((se.subs(t,0).subs(y,1)),(se.subs(t,1).subs(y,0))))\n",
    "    #print('Outra Base B={(1,0,3,-5),(0,1,6,-10)}')\n",
    "else:\n",
    "    print('Não Satisfaz a 3a equacao')"
   ],
   "metadata": {
    "collapsed": false,
    "pycharm": {
     "name": "#%%\n"
    }
   }
  }
 ],
 "metadata": {
  "kernelspec": {
   "display_name": "Python 3 (ipykernel)",
   "language": "python",
   "name": "python3"
  },
  "language_info": {
   "codemirror_mode": {
    "name": "ipython",
    "version": 3
   },
   "file_extension": ".py",
   "mimetype": "text/x-python",
   "name": "python",
   "nbconvert_exporter": "python",
   "pygments_lexer": "ipython3",
   "version": "3.10.1"
  }
 },
 "nbformat": 4,
 "nbformat_minor": 1
}