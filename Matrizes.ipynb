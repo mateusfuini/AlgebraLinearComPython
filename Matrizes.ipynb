{
 "cells": [
  {
   "cell_type": "markdown",
   "source": [],
   "metadata": {
    "collapsed": false
   }
  },
  {
   "cell_type": "markdown",
   "source": [
    "## Mateus Guilherme Fuini\n",
    "## Lista 1"
   ],
   "metadata": {
    "collapsed": false,
    "pycharm": {
     "name": "#%% md\n"
    }
   }
  },
  {
   "cell_type": "markdown",
   "metadata": {
    "collapsed": true,
    "pycharm": {
     "name": "#%% md\n"
    }
   },
   "source": [
    "### 1 – (FGV-2005) As meninas 1 = Adriana; 2 = Bruna e 3 = Carla falam muito ao telefone entre si. A matriz M mostra cada elemento aij representando o número de telefonemas que “i” deu para “j” no mês de setembro:$$ M =  \\left[\\begin{tabular}{cc}9 & 12 & 0 \\\\ 18  & 0 & 6 \\\\ 0  & 13 & 10\\end{tabular}\\right]$$\n",
    "#### Quem mais telefonou e quem mais recebeu ligações?"
   ]
  },
  {
   "cell_type": "code",
   "execution_count": 2,
   "outputs": [
    {
     "name": "stdout",
     "output_type": "stream",
     "text": [
      "Quem mais telefonou foi a Bruna\n",
      "Quem mais recebeu ligações foi a Adriana\n"
     ]
    }
   ],
   "source": [
    "import numpy as np\n",
    "from IPython.display import display\n",
    "m = np.array([[9, 12, 0],[18,0,6],[0,13,10]])\n",
    "nomes=['Adriana','Bruna','Carla']\n",
    "recebidas = np.sum(m,axis=0)\n",
    "feitas = np.sum(m,axis=1)\n",
    "print('Quem mais telefonou foi a', nomes[feitas.argmax()])\n",
    "print('Quem mais recebeu ligações foi a', nomes[recebidas.argmax()])"
   ],
   "metadata": {
    "collapsed": false,
    "pycharm": {
     "name": "#%%\n"
    }
   }
  },
  {
   "cell_type": "markdown",
   "source": [
    "### 2 - Uma matriz A é do tipo 3 x 5, outra matriz B é do tipo 5 x 2 e a matriz C é do tipo m x 4.\n",
    "####  Qual o valor de m para que exista o produto (A . B) . C?"
   ],
   "metadata": {
    "collapsed": false,
    "pycharm": {
     "name": "#%% md\n"
    }
   }
  },
  {
   "cell_type": "code",
   "execution_count": 1,
   "outputs": [
    {
     "name": "stdout",
     "output_type": "stream",
     "text": [
      "O valor de m deve ser 2, para que exista (A.B).C\n",
      "Gerando uma matriz resultado 3,4\n"
     ]
    }
   ],
   "source": [
    "#Para que ocorra a multiplicação das Matrizes MxN por PxQ, só pode ocorrer se N=P e o resultado será MxQ.\n",
    "#Portanto A.B resulta em 3x4, para multiplicar por C, m obrigatoriamente tem que ser 4.\n",
    "dimA = []\n",
    "dimB = []\n",
    "dimC = []\n",
    "dimAB = []\n",
    "dimA = input('Digite a dimensao da Matriz A - Ex. 3,5').split(',')\n",
    "dimB = input('Digite a dimensao da Matriz B - Ex. 5,2').split(',')\n",
    "dimC = input('Digite a dimensao da Matriz C - Ex. m,4').split(',')\n",
    "if dimA[1]!=dimB[0]:\n",
    " print('Nao e possivel a multiplicacao')\n",
    "else:\n",
    " dimAB = (dimA[0], dimB[1])\n",
    " if type(dimC[0]) != int:\n",
    "  print(f'O valor de {dimC[0]} deve ser {dimAB[1]}, para que exista (A.B).C')\n",
    "  print(f'Gerando uma matriz resultado {dimAB[0]},{dimC[1]}')\n",
    " else:\n",
    "  print(f'Parâmetro errado')"
   ],
   "metadata": {
    "collapsed": false,
    "pycharm": {
     "name": "#%%\n"
    }
   }
  },
  {
   "cell_type": "markdown",
   "source": [
    "### 3 - Dadas as matrizes $$ A= \\left[\\begin{tabular}{cc} 3 && 5 \\\\ 1 && -3\\end{tabular}\\right]$$ e  $$ B= \\left[\\begin{tabular}{cc} 4 && 0\\end{tabular}\\right],$$\n",
    " #### obtenha X tal que X.A = B."
   ],
   "metadata": {
    "collapsed": false,
    "pycharm": {
     "name": "#%% md\n"
    }
   }
  },
  {
   "cell_type": "code",
   "execution_count": 2,
   "outputs": [
    {
     "name": "stdout",
     "output_type": "stream",
     "text": [
      "Resposta:\n"
     ]
    },
    {
     "data": {
      "text/plain": "Matrix([[6/7, 10/7]])",
      "text/latex": "$\\displaystyle \\left[\\begin{matrix}\\frac{6}{7} & \\frac{10}{7}\\end{matrix}\\right]$"
     },
     "metadata": {},
     "output_type": "display_data"
    }
   ],
   "source": [
    "import numpy as np\n",
    "from sympy.matrices import Matrix\n",
    "A = Matrix([[3,5],[1,-3]])\n",
    "B = Matrix([[4,0]])\n",
    "x = B*A.inv()\n",
    "print(\"Resposta:\")\n",
    "display(x)"
   ],
   "metadata": {
    "collapsed": false,
    "pycharm": {
     "name": "#%%\n"
    }
   }
  },
  {
   "cell_type": "markdown",
   "source": [
    "### 4 - Uma matriz X possui elementos cuja soma vale 1. Se\n",
    "$$ X . \\left[\\begin{tabular}{cc} 1 && -1 \\\\ -1 && 1\\end{tabular}\\right]. X^t=\\left[\\begin{tabular}{cc} 1\\end{tabular}\\right] $$  #### onde $$ X^T $$ #### é a transposta de X , calcule o produto dos elementos de X."
   ],
   "metadata": {
    "collapsed": false,
    "pycharm": {
     "name": "#%% md\n"
    }
   }
  },
  {
   "cell_type": "code",
   "execution_count": 1,
   "outputs": [
    {
     "data": {
      "text/plain": "Matrix([[x*(x - y) + y*(-x + y)]])",
      "text/latex": "$\\displaystyle \\left[\\begin{matrix}x \\left(x - y\\right) + y \\left(- x + y\\right)\\end{matrix}\\right]$"
     },
     "metadata": {},
     "output_type": "display_data"
    },
    {
     "name": "stdout",
     "output_type": "stream",
     "text": [
      "Resultado da operação:\n"
     ]
    },
    {
     "data": {
      "text/plain": "Matrix([[(x - y)**2]])",
      "text/latex": "$\\displaystyle \\left[\\begin{matrix}\\left(x - y\\right)^{2}\\end{matrix}\\right]$"
     },
     "metadata": {},
     "output_type": "display_data"
    },
    {
     "name": "stdout",
     "output_type": "stream",
     "text": [
      "Resposta:\n"
     ]
    },
    {
     "data": {
      "text/plain": "[{x: y - 1}, {x: y + 1}]"
     },
     "metadata": {},
     "output_type": "display_data"
    }
   ],
   "source": [
    "from sympy import symbols, Matrix, solve, Eq, expand, collect, simplify\n",
    "from sympy.solvers.solveset import linsolve\n",
    "A = Matrix ([[1,-1],[-1,1]])\n",
    "R = Matrix([1])\n",
    "#A matriz X deve ter o shape l x 2, onde “l” vale o número de linhas, logo\n",
    "XshapeC = A.shape[0]\n",
    "#O Resultado é uma matriz 1x1, logo Xt possui uma coluna (X*A = shape lx2) Xt -> shape 2xc e o resultado final R  = shape 1x1\n",
    "XshapeL = R.shape[0]\n",
    "x, y = symbols('x y')\n",
    "X = Matrix([[x,y]])\n",
    "B=(X@A)@X.transpose() #X*A\n",
    "display(B)\n",
    "print(\"Resultado da operação:\")\n",
    "display(simplify(B))\n",
    "print(\"Resposta:\")\n",
    "display(solve(B-R))\n",
    "#Tirando a prova\n",
    "#R==B.subs(solve(B-R)[0])\n",
    "#R==B.subs(solve(B-R)[1])"
   ],
   "metadata": {
    "collapsed": false,
    "pycharm": {
     "name": "#%%\n"
    }
   }
  },
  {
   "cell_type": "markdown",
   "source": [
    "### 5 - Determine x e y na igualdade\n",
    " $$ A= \\left[\\begin{tabular}{cc} x && 3 \\\\ 4 && y\\end{tabular}\\right] + \\left[\\begin{tabular}{cc} -1 &&5\\\\8&&y\\end{tabular}\\right]  = \\left[\\begin{tabular}{cc}4 && 8 \\\\ 12 && -6\\end{tabular}\\right]$$"
   ],
   "metadata": {
    "collapsed": false,
    "pycharm": {
     "name": "#%% md\n"
    }
   }
  },
  {
   "cell_type": "code",
   "execution_count": 3,
   "outputs": [
    {
     "name": "stdout",
     "output_type": "stream",
     "text": [
      "Soma A + B\n"
     ]
    },
    {
     "data": {
      "text/plain": "Matrix([\n[x - 1,   8],\n[   12, 2*y]])",
      "text/latex": "$\\displaystyle \\left[\\begin{matrix}x - 1 & 8\\\\12 & 2 y\\end{matrix}\\right]$"
     },
     "metadata": {},
     "output_type": "display_data"
    },
    {
     "name": "stdout",
     "output_type": "stream",
     "text": [
      "Para gerar o resultado:\n"
     ]
    },
    {
     "data": {
      "text/plain": "Matrix([\n[ 4,  8],\n[12, -6]])",
      "text/latex": "$\\displaystyle \\left[\\begin{matrix}4 & 8\\\\12 & -6\\end{matrix}\\right]$"
     },
     "metadata": {},
     "output_type": "display_data"
    },
    {
     "name": "stdout",
     "output_type": "stream",
     "text": [
      "Os valores de x e y devem ser:\n"
     ]
    },
    {
     "data": {
      "text/plain": "{x: 5, y: -3}"
     },
     "metadata": {},
     "output_type": "display_data"
    }
   ],
   "source": [
    "from sympy import symbols, Matrix,  solve\n",
    "import numpy as np\n",
    "x, y = symbols('x y')\n",
    "A = Matrix([[x,3],[4,y]])\n",
    "B= Matrix([[-1,5],[8,y]])\n",
    "C= Matrix([[4,8],[12,-6]])\n",
    "s = A+B\n",
    "print(\"Soma A + B\")\n",
    "display(s)\n",
    "print(\"Para gerar o resultado:\")\n",
    "display(C)\n",
    "print(\"Os valores de x e y devem ser:\")\n",
    "display(solve(s-C))\n",
    "\n",
    "#Tirar a prova\n",
    "#C==s.subs(solve(s-C))"
   ],
   "metadata": {
    "collapsed": false,
    "pycharm": {
     "name": "#%%\n"
    }
   }
  },
  {
   "cell_type": "markdown",
   "source": [
    "### 6 - Dadas as matrizes $$ A =\\left[\\begin{tabular}{cc} 1&&2&&-3\\\\4&&5&&6\\end{tabular}\\right] e B=\\left[\\begin{tabular}{cc}1&&-2\\\\3&&0\\\\4&&-3\\end{tabular}\\right]$$ #### determine $$ A + 2.B^T. $$"
   ],
   "metadata": {
    "collapsed": false,
    "pycharm": {
     "name": "#%% md\n"
    }
   }
  },
  {
   "cell_type": "code",
   "execution_count": 6,
   "outputs": [
    {
     "name": "stdout",
     "output_type": "stream",
     "text": [
      "Resultado:\n"
     ]
    },
    {
     "data": {
      "text/plain": "Matrix([\n[3, 8, 5],\n[0, 5, 0]])",
      "text/latex": "$\\displaystyle \\left[\\begin{matrix}3 & 8 & 5\\\\0 & 5 & 0\\end{matrix}\\right]$"
     },
     "metadata": {},
     "output_type": "display_data"
    }
   ],
   "source": [
    "A = Matrix([[1,2,-3],[4,5,6]])\n",
    "B = Matrix(([[1,-2],[3,0],[4,-3]]))\n",
    "#A=np.array([[1,2,-3],[4,5,6]])\n",
    "#B=np.array([[1,-2],[3,0],[4,-3]])\n",
    "Bt=np.transpose(B)\n",
    "X=A+2*Bt\n",
    "print(\"Resultado:\")\n",
    "display(X)"
   ],
   "metadata": {
    "collapsed": false,
    "pycharm": {
     "name": "#%%\n"
    }
   }
  },
  {
   "cell_type": "markdown",
   "source": [
    "### 7 - (PUC) Um batalhão do exército, resolveu codificar suas mensagens através da multiplicação de matrizes. Primeiramente, associa as letras do alfabeto aos números, segundo a correspondência abaixo considerada:\n",
    "$$\\begin{matrix} A && B && C && D && E && F && G && H && I && J && L && M && N && O && P && Q && R && S && T && U && V && W && X && Y && Z \\\\\n",
    "                 1 && 2 && 3 && 4 && 5 && 6 && 7 && 8 && 9 && 10 && 11 && 12 && 13 && 14 && 15 && 16 && 17 && 18 && 19 && 20 && 21 && 22 && 23 && 24 && 25\\end{matrix}$$\n",
    "### Desta forma, supondo que o batalhão, em questão, deseja enviar a mensagem \"PAZ\", pode-se tomar uma matriz 2x2, da forma: $$ \\left[\\begin{tabular}{cc} P && A\\\\ Z && -\\end{tabular}\\right], $$ #### a qual, usando-se da tabela acima, será dado por: $$ M =\\left[\\begin{tabular}{cc} 15 && 1\\\\ 25 && 0\\end{tabular}\\right] $$ #### Tomando-se a matriz-chave C para o código, isto é: $$ C =\\left[\\begin{tabular}{cc} 2 && 3\\\\ 1 && 2\\end{tabular}\\right],$$ #### transmite-se a mensagem \"PAZ\" através da multiplicação das matrizes M e C, ou seja: $$ M.C= \\left[\\begin{tabular}{cc} 15 && 1\\\\ 25 && 0\\end{tabular}\\right] . \\left[\\begin{tabular}{cc} 2 && 3\\\\ 1 && 2\\end{tabular}\\right] = \\left[\\begin{tabular}{cc} 31 && 47\\\\ 50 && 75\\end{tabular}\\right] $$\n",
    "#### Desta forma, utilizando-se a mesma matriz-chave C, a decodificação da mensagem *51 81 9 14* será compreendida pelo batalhão como a transmissão de qual palavra? E a mensagem *27 49 48 79*?"
   ],
   "metadata": {
    "collapsed": false,
    "pycharm": {
     "name": "#%% md\n"
    }
   }
  },
  {
   "cell_type": "code",
   "execution_count": 7,
   "outputs": [
    {
     "name": "stdout",
     "output_type": "stream",
     "text": [
      "Decodificação da mensagem 51 81 9 14\n",
      "Palavra: VIDA\n",
      "Decodificação da mensagem 27 49 48 79\n",
      "Palavra: ERRO\n"
     ]
    }
   ],
   "source": [
    "import string\n",
    "import numpy as np\n",
    "Letras = [' ']+list(string.ascii_uppercase)\n",
    "Letras = np.delete(Letras,Letras.index('K'))\n",
    "\n",
    "def montaMatrizMsg (msg):\n",
    "  C = np.matrix([[0,0],[0,0]])\n",
    "  C[0] = [Letras.index(msg[0]),Letras.index(msg[1])]\n",
    "  C[1] = [Letras.index(msg[2]),Letras.index(msg[3])]\n",
    "  return C\n",
    "\n",
    "def TextoDaMensagem(Matriz):\n",
    "  S = []\n",
    "#a inversão da matriz chave gera valores reais. Precisamos transformá-los em inteiros para usar como índice do vetor de letras\n",
    "  S = Letras[int(Matriz[0, 0])] + Letras[int(Matriz[0, 1])] + Letras[int(Matriz[1, 0])] + Letras[int(Matriz[1, 1])]\n",
    "  return str(S)\n",
    "\n",
    "def codificaMsg(Msg, MatrizChave):\n",
    "  return (montaMatrizMsg(Msg) * MatrizChave)\n",
    "\n",
    "def decodificaMsg(MsgCod, MatrizChave):\n",
    "  Msg = MsgCod @ np.linalg.inv(MatrizChave)\n",
    "  return TextoDaMensagem (Msg)\n",
    "\n",
    "# mensagem = input('Digite uma palavra de até 4 caracteres').upper()\n",
    "Chave = np.matrix([[2,3],[1,2]])\n",
    "\n",
    "print('Decodificação da mensagem 51 81 9 14')\n",
    "c = np.array([[51,81],[9,14]])\n",
    "print('Palavra:', decodificaMsg(c,Chave))\n",
    "\n",
    "print('Decodificação da mensagem 27 49 48 79')\n",
    "c = np.array([[27,49],[48,79]])\n",
    "print('Palavra:', decodificaMsg(c,Chave))\n"
   ],
   "metadata": {
    "collapsed": false,
    "pycharm": {
     "name": "#%%\n"
    }
   }
  }
 ],
 "metadata": {
  "kernelspec": {
   "display_name": "Python 3",
   "language": "python",
   "name": "python3"
  },
  "language_info": {
   "codemirror_mode": {
    "name": "ipython",
    "version": 2
   },
   "file_extension": ".py",
   "mimetype": "text/x-python",
   "name": "python",
   "nbconvert_exporter": "python",
   "pygments_lexer": "ipython2",
   "version": "2.7.6"
  }
 },
 "nbformat": 4,
 "nbformat_minor": 0
}